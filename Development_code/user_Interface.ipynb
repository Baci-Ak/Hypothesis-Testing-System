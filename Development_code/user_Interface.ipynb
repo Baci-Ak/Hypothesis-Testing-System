{
 "cells": [
  {
   "cell_type": "code",
   "execution_count": null,
   "id": "d71cbf33",
   "metadata": {},
   "outputs": [],
   "source": []
  },
  {
   "cell_type": "code",
   "execution_count": 1,
   "id": "e4ef91f8",
   "metadata": {},
   "outputs": [],
   "source": [
    "from Hypothesis_testing_system import Hypothesis"
   ]
  },
  {
   "cell_type": "code",
   "execution_count": null,
   "id": "17772481",
   "metadata": {},
   "outputs": [],
   "source": []
  },
  {
   "cell_type": "code",
   "execution_count": 3,
   "id": "a51b96e7",
   "metadata": {},
   "outputs": [],
   "source": [
    "import numpy as np\n",
    "\n",
    "# import pandas for data anlysis and manipulations\n",
    "import pandas as pd\n"
   ]
  },
  {
   "cell_type": "code",
   "execution_count": 13,
   "id": "38c4efc1",
   "metadata": {},
   "outputs": [],
   "source": [
    "\n",
    "df = pd.read_sas(\"bs04retail.sas7bdat\")\n",
    "df.head()"
   ]
  },
  {
   "cell_type": "code",
   "execution_count": 14,
   "id": "7d806425",
   "metadata": {},
   "outputs": [],
   "source": [
    "df.dtypes"
   ]
  },
  {
   "cell_type": "code",
   "execution_count": 15,
   "id": "4c547bfc",
   "metadata": {},
   "outputs": [],
   "source": [
    "df['Store'] = df['Store'].astype(int)\n",
    "df.head()"
   ]
  },
  {
   "cell_type": "code",
   "execution_count": null,
   "id": "d1c46c3b",
   "metadata": {},
   "outputs": [],
   "source": []
  },
  {
   "cell_type": "code",
   "execution_count": 11,
   "id": "36d4d18c",
   "metadata": {},
   "outputs": [],
   "source": [
    "import pandas as pd\n",
    "\n",
    "\n",
    "def hypothesis_System_interface(data):\n",
    "    tester = Hypothesis(data)\n",
    "    \n",
    "    while True:\n",
    "        try:\n",
    "            print(\"\\nAvailable items for testing are:\", \", \".join(data.columns))\n",
    "            \n",
    "            print(\"\\nAvailable test types are: one-tailed, two-tailed\")\n",
    "            test_type = input(\"\\nWhat type of test do you want to perform? (Enter 'one-tailed', 'two-tailed', or 'quit'): \").lower()\n",
    "            \n",
    "            if test_type == 'quit' or test_type == 'q':\n",
    "                print(\"Exiting the application. Goodbye!\")\n",
    "                break\n",
    "            elif test_type == 'one-tailed':\n",
    "                item = input(\"\\nPlease enter the name of the item/product you want to test: \").strip()\n",
    "                alpha = float(input(\"\\nPlease enter the significance level for your test (alpha): \"))\n",
    "                result, t_stat, pvalue, mean_difference, correlation = tester.one_tailed_test(item, alpha)\n",
    "            elif test_type == 'two-tailed':\n",
    "                items = input(\"\\nPlease enter the names of the items you want to test (comma-separated): \").split(',')\n",
    "                alpha = float(input(\"\\nEnter significance level (alpha): \"))\n",
    "                result, t_stat, pvalue, mean_difference, correlation = tester.two_tailed_test(items[0], items[1], alpha)\n",
    "            else:\n",
    "                result = \"Error: Invalid test type. Please choose either 'one-tailed' or 'two-tailed'.\"\n",
    "            \n",
    "            print(result)\n",
    "            \n",
    "            if 'mean_difference' in locals() and 'correlation' in locals() and mean_difference is not None and correlation is not None:\n",
    "                print(f\"\\nMean Difference between {items[0]} and {items[1]}: {mean_difference:.2f}\")\n",
    "                print(f\"Correlation between {items[0]} and {items[1]}: {correlation:.3f}\")\n",
    "                if mean_difference > 0:\n",
    "                    print(f\"The data constitutes significant evidence that the underlying mean number was greater for {items[0]}, by an estimated value of {mean_difference:.3f}. The result suggests that {items[0]} should be preferred.\")\n",
    "                else:\n",
    "                    print(f\"The data constitutes significant evidence that the underlying mean number was greater for {items[1]}, by an estimated value of {abs(mean_difference):.3f}. The result suggests that {items[1]} should be preferred.\")\n",
    "            \n",
    "            print(f\"\\nT-statistic: {t_stat:.4f}\")\n",
    "            print(f\"P-value: {pvalue:.9f}\")\n",
    "            \n",
    "            stat_table = pd.DataFrame(columns=['Item', 'N', 'Mean', 'Median', 'Std_Deviation', 'Variance', 'Min_Val', 'Max_Val'])\n",
    "            for item in data.columns:\n",
    "                sample_size = len(data[item])\n",
    "                mean = round(data[item].mean(), 3)\n",
    "                median = round(data[item].median(), 2)\n",
    "                st_deviation = round(data[item].std(), 2)\n",
    "                variance = round(data[item].var(), 2)\n",
    "                mini_val = data[item].min()\n",
    "                max_val = data[item].max()\n",
    "                stat_table = pd.concat([stat_table, pd.DataFrame({\n",
    "                    'Item': [item],\n",
    "                    'N': [sample_size],\n",
    "                    'Mean': [mean],\n",
    "                    'Median': [median],\n",
    "                    'Std_Deviation': [st_deviation],\n",
    "                    'Variance': [variance],\n",
    "                    'Min_Val': [mini_val],\n",
    "                    'Max_Val': [max_val]\n",
    "                })], ignore_index=True)\n",
    "            \n",
    "            print(\"\\nStatistic Table:\")\n",
    "            print(stat_table)\n",
    "            \n",
    "            more_operations = input(\"\\nDo you want to perform more operations? (Enter 'yes' to continue or 'no' to quit): \").lower()\n",
    "            if more_operations != 'yes':\n",
    "                print(\"Exiting the application. Goodbye!\")\n",
    "                break\n",
    "            \n",
    "        except IndexError:\n",
    "            print(\"Error: Invalid item name or index error. Please enter the correct item/product names.\")\n",
    "        except UnboundLocalError:\n",
    "            print(\"UnboundLocalError: Invalid test type. Please choose either 'one-tailed' or 'two-tailed'.\")\n",
    "        except ValueError:\n",
    "            print(\"ValueError: Please enter a numeric value and not a character.\")\n",
    "        except Exception as e:\n",
    "            print(f\"An error occurred: {e}\")\n",
    "\n",
    " \n"
   ]
  },
  {
   "cell_type": "code",
   "execution_count": null,
   "id": "6ff391a9",
   "metadata": {},
   "outputs": [],
   "source": []
  },
  {
   "cell_type": "code",
   "execution_count": null,
   "id": "c6075b46",
   "metadata": {},
   "outputs": [],
   "source": []
  },
  {
   "cell_type": "code",
   "execution_count": 16,
   "id": "d80e3e37",
   "metadata": {},
   "outputs": [],
   "source": [
    "#hypothesis_System_interface(df)"
   ]
  },
  {
   "cell_type": "code",
   "execution_count": null,
   "id": "aa94b783",
   "metadata": {},
   "outputs": [],
   "source": []
  }
 ],
 "metadata": {
  "kernelspec": {
   "display_name": "Python 3 (ipykernel)",
   "language": "python",
   "name": "python3"
  },
  "language_info": {
   "codemirror_mode": {
    "name": "ipython",
    "version": 3
   },
   "file_extension": ".py",
   "mimetype": "text/x-python",
   "name": "python",
   "nbconvert_exporter": "python",
   "pygments_lexer": "ipython3",
   "version": "3.11.3"
  }
 },
 "nbformat": 4,
 "nbformat_minor": 5
}
