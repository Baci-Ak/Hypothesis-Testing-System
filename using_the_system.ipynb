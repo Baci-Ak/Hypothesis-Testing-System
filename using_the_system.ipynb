{
 "cells": [
  {
   "cell_type": "code",
   "execution_count": null,
   "id": "9164d262",
   "metadata": {},
   "outputs": [],
   "source": []
  },
  {
   "cell_type": "code",
   "execution_count": 1,
   "id": "d9b19e57",
   "metadata": {},
   "outputs": [],
   "source": [
    "# import pandas for data anlysis and manipulations\n",
    "import pandas as pd"
   ]
  },
  {
   "cell_type": "code",
   "execution_count": 2,
   "id": "8c246f82",
   "metadata": {},
   "outputs": [
    {
     "data": {
      "text/html": [
       "<div>\n",
       "<style scoped>\n",
       "    .dataframe tbody tr th:only-of-type {\n",
       "        vertical-align: middle;\n",
       "    }\n",
       "\n",
       "    .dataframe tbody tr th {\n",
       "        vertical-align: top;\n",
       "    }\n",
       "\n",
       "    .dataframe thead th {\n",
       "        text-align: right;\n",
       "    }\n",
       "</style>\n",
       "<table border=\"1\" class=\"dataframe\">\n",
       "  <thead>\n",
       "    <tr style=\"text-align: right;\">\n",
       "      <th></th>\n",
       "      <th>Store</th>\n",
       "      <th>Con1</th>\n",
       "      <th>Con2</th>\n",
       "    </tr>\n",
       "  </thead>\n",
       "  <tbody>\n",
       "    <tr>\n",
       "      <th>0</th>\n",
       "      <td>1.0</td>\n",
       "      <td>141.0</td>\n",
       "      <td>118.0</td>\n",
       "    </tr>\n",
       "    <tr>\n",
       "      <th>1</th>\n",
       "      <td>2.0</td>\n",
       "      <td>184.0</td>\n",
       "      <td>167.0</td>\n",
       "    </tr>\n",
       "    <tr>\n",
       "      <th>2</th>\n",
       "      <td>3.0</td>\n",
       "      <td>132.0</td>\n",
       "      <td>137.0</td>\n",
       "    </tr>\n",
       "    <tr>\n",
       "      <th>3</th>\n",
       "      <td>4.0</td>\n",
       "      <td>161.0</td>\n",
       "      <td>168.0</td>\n",
       "    </tr>\n",
       "    <tr>\n",
       "      <th>4</th>\n",
       "      <td>5.0</td>\n",
       "      <td>176.0</td>\n",
       "      <td>175.0</td>\n",
       "    </tr>\n",
       "  </tbody>\n",
       "</table>\n",
       "</div>"
      ],
      "text/plain": [
       "   Store   Con1   Con2\n",
       "0    1.0  141.0  118.0\n",
       "1    2.0  184.0  167.0\n",
       "2    3.0  132.0  137.0\n",
       "3    4.0  161.0  168.0\n",
       "4    5.0  176.0  175.0"
      ]
     },
     "execution_count": 2,
     "metadata": {},
     "output_type": "execute_result"
    }
   ],
   "source": [
    "df = pd.read_sas(\"bs04retail.sas7bdat\")\n",
    "df.head()"
   ]
  },
  {
   "cell_type": "code",
   "execution_count": 3,
   "id": "67090886",
   "metadata": {},
   "outputs": [
    {
     "data": {
      "text/plain": [
       "Store    float64\n",
       "Con1     float64\n",
       "Con2     float64\n",
       "dtype: object"
      ]
     },
     "execution_count": 3,
     "metadata": {},
     "output_type": "execute_result"
    }
   ],
   "source": [
    "df.dtypes"
   ]
  },
  {
   "cell_type": "code",
   "execution_count": 4,
   "id": "a9a754b7",
   "metadata": {},
   "outputs": [
    {
     "data": {
      "text/html": [
       "<div>\n",
       "<style scoped>\n",
       "    .dataframe tbody tr th:only-of-type {\n",
       "        vertical-align: middle;\n",
       "    }\n",
       "\n",
       "    .dataframe tbody tr th {\n",
       "        vertical-align: top;\n",
       "    }\n",
       "\n",
       "    .dataframe thead th {\n",
       "        text-align: right;\n",
       "    }\n",
       "</style>\n",
       "<table border=\"1\" class=\"dataframe\">\n",
       "  <thead>\n",
       "    <tr style=\"text-align: right;\">\n",
       "      <th></th>\n",
       "      <th>Store</th>\n",
       "      <th>Con1</th>\n",
       "      <th>Con2</th>\n",
       "    </tr>\n",
       "  </thead>\n",
       "  <tbody>\n",
       "    <tr>\n",
       "      <th>0</th>\n",
       "      <td>1</td>\n",
       "      <td>141.0</td>\n",
       "      <td>118.0</td>\n",
       "    </tr>\n",
       "    <tr>\n",
       "      <th>1</th>\n",
       "      <td>2</td>\n",
       "      <td>184.0</td>\n",
       "      <td>167.0</td>\n",
       "    </tr>\n",
       "    <tr>\n",
       "      <th>2</th>\n",
       "      <td>3</td>\n",
       "      <td>132.0</td>\n",
       "      <td>137.0</td>\n",
       "    </tr>\n",
       "    <tr>\n",
       "      <th>3</th>\n",
       "      <td>4</td>\n",
       "      <td>161.0</td>\n",
       "      <td>168.0</td>\n",
       "    </tr>\n",
       "    <tr>\n",
       "      <th>4</th>\n",
       "      <td>5</td>\n",
       "      <td>176.0</td>\n",
       "      <td>175.0</td>\n",
       "    </tr>\n",
       "  </tbody>\n",
       "</table>\n",
       "</div>"
      ],
      "text/plain": [
       "   Store   Con1   Con2\n",
       "0      1  141.0  118.0\n",
       "1      2  184.0  167.0\n",
       "2      3  132.0  137.0\n",
       "3      4  161.0  168.0\n",
       "4      5  176.0  175.0"
      ]
     },
     "execution_count": 4,
     "metadata": {},
     "output_type": "execute_result"
    }
   ],
   "source": [
    "df['Store'] = df['Store'].astype(int)\n",
    "df.head()"
   ]
  },
  {
   "cell_type": "code",
   "execution_count": null,
   "id": "03dfc0dd",
   "metadata": {},
   "outputs": [],
   "source": []
  },
  {
   "cell_type": "code",
   "execution_count": null,
   "id": "99544076",
   "metadata": {},
   "outputs": [],
   "source": []
  },
  {
   "cell_type": "code",
   "execution_count": 10,
   "id": "422ec667",
   "metadata": {},
   "outputs": [],
   "source": [
    "from Hypothesis_testing_system import Hypothesis\n",
    "from user_Interface import hypothesis_System_interface"
   ]
  },
  {
   "cell_type": "code",
   "execution_count": 6,
   "id": "33edf287",
   "metadata": {},
   "outputs": [
    {
     "name": "stdout",
     "output_type": "stream",
     "text": [
      "\n",
      "Available items for testing are: Store, Con1, Con2\n",
      "\n",
      "Available test types are: one-tailed, two-tailed\n",
      "\n",
      "What type of test do you want to perform? (Enter 'one-tailed', 'two-tailed', or 'quit'): two-tailed\n",
      "\n",
      "Please enter the names of the items you want to test (comma-separated): Con1,Con2\n",
      "\n",
      "Enter significance level (alpha): 0.05\n",
      "\n",
      "since p_value = 0.3015 > 0.05, we cannot reject the null hypothesis H0. There is no significant difference between Con1 and Con2. hence, the data does not provide enough evidence to support the claim that there is a significant difference between the two items\n",
      "\n",
      "Mean Difference between Con1 and Con2: 13.20\n",
      "Correlation between Con1 and Con2: 0.863\n",
      "The data constitutes significant evidence that the underlying mean number was greater for Con1, by an estimated value of 13.200. The result suggests that Con1 should be preferred.\n",
      "\n",
      "T-statistic: 1.0638\n",
      "P-value: 0.301487919\n",
      "\n",
      "Statistic Table:\n",
      "    Item   N   Mean  Median  Std_Deviation  Variance Min_Val Max_Val\n",
      "0  Store  10    5.5     5.5           3.03      9.17       1      10\n",
      "1   Con1  10  172.6   172.5          27.39    750.27   132.0   218.0\n",
      "2   Con2  10  159.4   167.5          28.10    789.38   118.0   197.0\n",
      "\n",
      "Do you want to perform more operations? (Enter 'yes' to continue or 'no' to quit): y\n",
      "Exiting the application. Goodbye!\n"
     ]
    }
   ],
   "source": [
    "hypothesis = hypothesis_System_interface(df)\n",
    "hypothesis"
   ]
  },
  {
   "cell_type": "code",
   "execution_count": null,
   "id": "2917f86d",
   "metadata": {},
   "outputs": [],
   "source": []
  },
  {
   "cell_type": "code",
   "execution_count": null,
   "id": "843d4d13",
   "metadata": {},
   "outputs": [],
   "source": []
  },
  {
   "cell_type": "code",
   "execution_count": null,
   "id": "3571cc2c",
   "metadata": {},
   "outputs": [],
   "source": []
  }
 ],
 "metadata": {
  "kernelspec": {
   "display_name": "Python 3 (ipykernel)",
   "language": "python",
   "name": "python3"
  },
  "language_info": {
   "codemirror_mode": {
    "name": "ipython",
    "version": 3
   },
   "file_extension": ".py",
   "mimetype": "text/x-python",
   "name": "python",
   "nbconvert_exporter": "python",
   "pygments_lexer": "ipython3",
   "version": "3.11.3"
  }
 },
 "nbformat": 4,
 "nbformat_minor": 5
}
